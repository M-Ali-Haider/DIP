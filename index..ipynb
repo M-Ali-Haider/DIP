{
 "cells": [
  {
   "cell_type": "markdown",
   "metadata": {},
   "source": [
    "DIP LAB#3"
   ]
  },
  {
   "cell_type": "markdown",
   "metadata": {},
   "source": [
    "Task#1"
   ]
  },
  {
   "cell_type": "markdown",
   "metadata": {},
   "source": [
    "a)\tLoad any image, find its dimensions and number of channels and display it."
   ]
  },
  {
   "cell_type": "code",
   "execution_count": 2,
   "metadata": {},
   "outputs": [
    {
     "name": "stdout",
     "output_type": "stream",
     "text": [
      "(height,width,channels): (328, 282, 3)\n"
     ]
    }
   ],
   "source": [
    "import cv2\n",
    "goatedImage = cv2.imread('HamzaCR.jpeg')\n",
    "print(f'(height,width,channels): {goatedImage.shape}')\n",
    "cv2.imshow('Goated CR',goatedImage)\n",
    "cv2.waitKey(0)\n",
    "cv2.destroyAllWindows()\n"
   ]
  },
  {
   "cell_type": "markdown",
   "metadata": {},
   "source": [
    "b)\tFind the size, date, coding method, bit depth, height and width."
   ]
  },
  {
   "cell_type": "code",
   "execution_count": 3,
   "metadata": {},
   "outputs": [
    {
     "name": "stdout",
     "output_type": "stream",
     "text": [
      "width: 282\n",
      "height: 328\n",
      "channels: 3\n",
      "size: 277488 bytes\n",
      "date: 2024-09-26 12:25:27.461000\n",
      "Bit Depth: uint8\n"
     ]
    }
   ],
   "source": [
    "import os\n",
    "\n",
    "height, width, channels = goatedImage.shape\n",
    "size = goatedImage.size\n",
    "\n",
    "dateValue = os.path.getctime('HamzaCR.jpeg')\n",
    "from datetime import datetime\n",
    "date = datetime.fromtimestamp(dateValue)\n",
    "\n",
    "bitDepth = goatedImage.dtype\n",
    "\n",
    "print(f\"width: {width}\")\n",
    "print(f\"height: {height}\")\n",
    "print(f\"channels: {channels}\")\n",
    "print(f\"size: {size} bytes\")\n",
    "print(f\"date: {date}\")\n",
    "print(f\"Bit Depth: {bitDepth}\")"
   ]
  },
  {
   "cell_type": "markdown",
   "metadata": {},
   "source": [
    "c)\tWhat happens if you convert a double having values outside the range [0 255] to an uint8?"
   ]
  },
  {
   "cell_type": "code",
   "execution_count": null,
   "metadata": {},
   "outputs": [],
   "source": []
  },
  {
   "cell_type": "markdown",
   "metadata": {},
   "source": [
    "Task#2\n",
    "\n",
    "Load any image, binarize it, using the function ‘cv2.threshold’ with a threshold of 127 and display both original and binarized images. "
   ]
  },
  {
   "cell_type": "code",
   "execution_count": 6,
   "metadata": {},
   "outputs": [],
   "source": [
    "goatedGrayImage = cv2.imread('HamzaCR.jpeg',cv2.IMREAD_GRAYSCALE)\n",
    "_, blackandwhite = cv2.threshold(goatedGrayImage,127,255,cv2.THRESH_BINARY)\n",
    "cv2.imshow('Black and White',blackandwhite)\n",
    "cv2.waitKey(0)\n",
    "cv2.destroyAllWindows()"
   ]
  },
  {
   "cell_type": "markdown",
   "metadata": {},
   "source": [
    "Task#3"
   ]
  },
  {
   "cell_type": "code",
   "execution_count": 21,
   "metadata": {},
   "outputs": [
    {
     "name": "stdout",
     "output_type": "stream",
     "text": [
      "Size of Image: 277488 bytes\n",
      "Image's Channels: 3\n",
      "Size of Image: 92496 bytes\n",
      "Image's Channels: 1\n"
     ]
    }
   ],
   "source": [
    "def displayImage(title,image):\n",
    "    cv2.imshow(title,image)\n",
    "    cv2.waitKey(0)\n",
    "    cv2.destroyAllWindows()\n",
    "\n",
    "def task3Function(goatedImage):\n",
    "    print(f\"Size of Image: {goatedImage.size} bytes\")\n",
    "    if len(goatedImage.shape) == 3:\n",
    "        print(f\"Image's Channels: 3\")\n",
    "        grayGoatedImage = cv2.cvtColor(goatedImage,cv2.COLOR_BGR2GRAY)\n",
    "        _,binarizedGoatedImage = cv2.threshold(grayGoatedImage,127,255,cv2.THRESH_BINARY)\n",
    "        displayImage('channels == 3',binarizedGoatedImage)        \n",
    "    else:\n",
    "        print(f\"Image's Channels: 1\")\n",
    "        displayImage('channels == 1',goatedImage) \n",
    "\n",
    "goatedImage = cv2.imread('HamzaCR.jpeg')\n",
    "task3Function(goatedImage)\n",
    "grayGoatedImage = cv2.imread('HamzaCR.jpeg',cv2.IMREAD_GRAYSCALE)\n",
    "task3Function(grayGoatedImage)"
   ]
  },
  {
   "cell_type": "markdown",
   "metadata": {},
   "source": [
    "Task#4\n",
    "\n",
    "Write which reads the image. Binarize the image using your own implementation rather than the functions. Use two loops (nested), compare each value with a given threshold and generate the output image."
   ]
  },
  {
   "cell_type": "code",
   "execution_count": 36,
   "metadata": {},
   "outputs": [
    {
     "name": "stdout",
     "output_type": "stream",
     "text": [
      "[[30 30 30 ... 30 30 30]\n",
      " [30 30 30 ... 30 30 30]\n",
      " [30 30 30 ... 30 30 30]\n",
      " ...\n",
      " [30 30 30 ... 30 30 30]\n",
      " [30 30 30 ... 30 30 30]\n",
      " [30 30 30 ... 30 30 30]]\n",
      "328\n",
      "282\n"
     ]
    }
   ],
   "source": [
    "manualImage = cv2.imread('HamzaCR.jpeg',cv2.IMREAD_GRAYSCALE)\n",
    "height, width = manualImage.shape\n",
    "threshold = 127\n",
    "\n",
    "print(manualImage)\n",
    "print(height)\n",
    "print(width)\n",
    "\n",
    "for i in range(height):\n",
    "    for j in range(width):\n",
    "        if manualImage[i][j] > 127: \n",
    "            manualImage[i][j] = 255\n",
    "        else:\n",
    "            manualImage[i][j] = 0\n",
    "\n",
    "displayImage('Manual Labour', manualImage)\n"
   ]
  },
  {
   "cell_type": "markdown",
   "metadata": {},
   "source": [
    "Task 5\n",
    "\n",
    "Open webcam and perform gray scaling on the video frames, you can use opencv functions for gray scale.\n"
   ]
  },
  {
   "cell_type": "code",
   "execution_count": 45,
   "metadata": {},
   "outputs": [],
   "source": [
    "goatedVideo = cv2.VideoCapture(0)\n",
    "while True:\n",
    "    ret, frame = goatedVideo.read()\n",
    "    if ret:\n",
    "        grayVideo = cv2.cvtColor(frame,cv2.COLOR_BGR2GRAY)\n",
    "        cv2.imshow('Gray Goated Video',frame)\n",
    "        if cv2.waitKey(20) & 0xFF == ord('l'):\n",
    "            break\n",
    "goatedVideo.release()\n",
    "cv2.destroyAllWindows()"
   ]
  },
  {
   "cell_type": "code",
   "execution_count": null,
   "metadata": {},
   "outputs": [],
   "source": []
  }
 ],
 "metadata": {
  "kernelspec": {
   "display_name": "Python 3",
   "language": "python",
   "name": "python3"
  },
  "language_info": {
   "codemirror_mode": {
    "name": "ipython",
    "version": 3
   },
   "file_extension": ".py",
   "mimetype": "text/x-python",
   "name": "python",
   "nbconvert_exporter": "python",
   "pygments_lexer": "ipython3",
   "version": "3.12.3"
  }
 },
 "nbformat": 4,
 "nbformat_minor": 2
}
