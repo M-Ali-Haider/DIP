{
  "nbformat": 4,
  "nbformat_minor": 0,
  "metadata": {
    "colab": {
      "provenance": []
    },
    "kernelspec": {
      "name": "python3",
      "display_name": "Python 3"
    },
    "language_info": {
      "name": "python"
    }
  },
  "cells": [
    {
      "cell_type": "markdown",
      "source": [
        "**Initialization**"
      ],
      "metadata": {
        "id": "ZD_Ps_hYOmJw"
      }
    },
    {
      "cell_type": "code",
      "source": [
        "first = [[1,2,3],[4,5,6],[7,8,9]]\n",
        "second = [[1,2,3],[4,5,6],[7,8,9]]\n",
        "\n",
        "result_addition = first\n",
        "result_multiplication = first"
      ],
      "metadata": {
        "id": "lxVzdZIiOiS3"
      },
      "execution_count": 8,
      "outputs": []
    },
    {
      "cell_type": "markdown",
      "source": [
        "**Matrix Addition**"
      ],
      "metadata": {
        "id": "_ahfnjGCOXdh"
      }
    },
    {
      "cell_type": "code",
      "execution_count": 9,
      "metadata": {
        "colab": {
          "base_uri": "https://localhost:8080/"
        },
        "id": "mkYim0r5NDqJ",
        "outputId": "443f085e-9ba4-425f-d500-424ee579564c"
      },
      "outputs": [
        {
          "output_type": "stream",
          "name": "stdout",
          "text": [
            "[[2, 4, 6], [8, 10, 12], [14, 16, 18]]\n"
          ]
        }
      ],
      "source": [
        "for i in range(len(first)):\n",
        "    for j in range(len(second)):\n",
        "        result_addition[i][j] = first[i][j] + second[i][j]\n",
        "\n",
        "print(result_addition)"
      ]
    },
    {
      "cell_type": "markdown",
      "source": [
        "**Matrix Multiplication**"
      ],
      "metadata": {
        "id": "3FetBgy3OcnG"
      }
    },
    {
      "cell_type": "code",
      "source": [
        "for i in range(len(first)):\n",
        "    for j in range(len(second)):\n",
        "        result_multiplication[i][j] = first[i][j] * second[i][j]\n",
        "\n",
        "print(result_multiplication)"
      ],
      "metadata": {
        "colab": {
          "base_uri": "https://localhost:8080/"
        },
        "id": "DsNhrzx3ODgr",
        "outputId": "1f3fd8d2-2c70-42a1-f29e-49234a552302"
      },
      "execution_count": 10,
      "outputs": [
        {
          "output_type": "stream",
          "name": "stdout",
          "text": [
            "[[2, 8, 18], [32, 50, 72], [98, 128, 162]]\n"
          ]
        }
      ]
    }
  ]
}