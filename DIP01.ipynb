{
  "cells": [
    {
      "cell_type": "markdown",
      "metadata": {
        "id": "ZD_Ps_hYOmJw"
      },
      "source": [
        "**Matrix Addition**"
      ]
    },
    {
      "cell_type": "code",
      "execution_count": 6,
      "metadata": {
        "id": "lxVzdZIiOiS3"
      },
      "outputs": [
        {
          "name": "stdout",
          "output_type": "stream",
          "text": [
            "[[10, 10, 10], [10, 10, 10], [10, 10, 10]]\n"
          ]
        }
      ],
      "source": [
        "first = [[1,2,3],[4,5,6],[7,8,9]]\n",
        "second = [[9,8,7],[6,5,4],[3,2,1]]\n",
        "\n",
        "resultAddition = first\n",
        "\n",
        "for i in range(len(first)):\n",
        "    for j in range(len(second)):\n",
        "        resultAddition[i][j] = first[i][j] + second[i][j]\n",
        "\n",
        "print(resultAddition)\n"
      ]
    },
    {
      "cell_type": "markdown",
      "metadata": {
        "id": "3FetBgy3OcnG"
      },
      "source": [
        "**Matrix Multiplication**"
      ]
    },
    {
      "cell_type": "code",
      "execution_count": 7,
      "metadata": {
        "colab": {
          "base_uri": "https://localhost:8080/"
        },
        "id": "DsNhrzx3ODgr",
        "outputId": "1f3fd8d2-2c70-42a1-f29e-49234a552302"
      },
      "outputs": [
        {
          "name": "stdout",
          "output_type": "stream",
          "text": [
            "[[58, 64], [139, 154]]\n"
          ]
        }
      ],
      "source": [
        "matrixA = [[1, 2, 3], [4, 5, 6]]\n",
        "matrixB = [[7, 8], [9, 10], [11, 12]]\n",
        "\n",
        "resultMultiplication = [[0 for _ in range(len(matrixB[0]))] for _ in range(len(matrixA))]\n",
        "\n",
        "for i in range(len(matrixA)):\n",
        "    for j in range(len(matrixB[0])):\n",
        "        for k in range(len(matrixB)):\n",
        "            resultMultiplication[i][j] += matrixA[i][k] * matrixB[k][j]\n",
        "\n",
        "print(resultMultiplication)\n"
      ]
    }
  ],
  "metadata": {
    "colab": {
      "provenance": []
    },
    "kernelspec": {
      "display_name": "Python 3",
      "name": "python3"
    },
    "language_info": {
      "codemirror_mode": {
        "name": "ipython",
        "version": 3
      },
      "file_extension": ".py",
      "mimetype": "text/x-python",
      "name": "python",
      "nbconvert_exporter": "python",
      "pygments_lexer": "ipython3",
      "version": "3.12.3"
    }
  },
  "nbformat": 4,
  "nbformat_minor": 0
}
