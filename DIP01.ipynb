{
  "cells": [
    {
      "cell_type": "markdown",
      "metadata": {
        "id": "ZD_Ps_hYOmJw"
      },
      "source": [
        "**Initialization**"
      ]
    },
    {
      "cell_type": "code",
      "execution_count": 8,
      "metadata": {
        "id": "lxVzdZIiOiS3"
      },
      "outputs": [],
      "source": [
        "first = [[1,2,3],[4,5,6],[7,8,9]]\n",
        "second = [[1,2,3],[4,5,6],[7,8,9]]\n",
        "\n",
        "result_addition = first\n",
        "result_multiplication = first"
      ]
    },
    {
      "cell_type": "markdown",
      "metadata": {
        "id": "_ahfnjGCOXdh"
      },
      "source": [
        "**Matrix Addition**"
      ]
    },
    {
      "cell_type": "code",
      "execution_count": 9,
      "metadata": {
        "colab": {
          "base_uri": "https://localhost:8080/"
        },
        "id": "mkYim0r5NDqJ",
        "outputId": "443f085e-9ba4-425f-d500-424ee579564c"
      },
      "outputs": [
        {
          "name": "stdout",
          "output_type": "stream",
          "text": [
            "[[2, 4, 6], [8, 10, 12], [14, 16, 18]]\n"
          ]
        }
      ],
      "source": [
        "for i in range(len(first)):\n",
        "    for j in range(len(second)):\n",
        "        result_addition[i][j] = first[i][j] + second[i][j]\n",
        "\n",
        "print(result_addition)"
      ]
    },
    {
      "cell_type": "markdown",
      "metadata": {
        "id": "3FetBgy3OcnG"
      },
      "source": [
        "**Matrix Multiplication**"
      ]
    },
    {
      "cell_type": "code",
      "execution_count": 10,
      "metadata": {
        "colab": {
          "base_uri": "https://localhost:8080/"
        },
        "id": "DsNhrzx3ODgr",
        "outputId": "1f3fd8d2-2c70-42a1-f29e-49234a552302"
      },
      "outputs": [
        {
          "name": "stdout",
          "output_type": "stream",
          "text": [
            "[[2, 8, 18], [32, 50, 72], [98, 128, 162]]\n"
          ]
        }
      ],
      "source": [
        "for i in range(len(first)):\n",
        "    for j in range(len(second)):\n",
        "        result_multiplication[i][j] = first[i][j] * second[i][j]\n",
        "\n",
        "print(result_multiplication)"
      ]
    }
  ],
  "metadata": {
    "colab": {
      "provenance": []
    },
    "kernelspec": {
      "display_name": "Python 3",
      "name": "python3"
    },
    "language_info": {
      "name": "python",
      "version": "3.12.3"
    }
  },
  "nbformat": 4,
  "nbformat_minor": 0
}
